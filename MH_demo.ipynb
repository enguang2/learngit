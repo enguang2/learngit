{
 "cells": [
  {
   "cell_type": "code",
   "execution_count": 49,
   "metadata": {},
   "outputs": [],
   "source": [
    "# Import the relevant libraries.\n",
    "import AbstractMCMC\n",
    "#using AbstractMCMC\n",
    "using Distributions\n",
    "using Random"
   ]
  },
  {
   "cell_type": "code",
   "execution_count": 50,
   "metadata": {
    "scrolled": true
   },
   "outputs": [
    {
     "data": {
      "text/plain": [
       "MetropolisHastings"
      ]
     },
     "execution_count": 50,
     "metadata": {},
     "output_type": "execute_result"
    }
   ],
   "source": [
    "# Define a sampler type.\n",
    "struct MetropolisHastings{T, D} <: AbstractMCMC.AbstractSampler \n",
    "    init_θ::T\n",
    "    proposal::D\n",
    "end\n",
    "\n",
    "# Default constructors.\n",
    "MetropolisHastings(init_θ::Real) = MetropolisHastings(init_θ, Normal(0,1))\n",
    "MetropolisHastings(init_θ::Vector{<:Real}) = MetropolisHastings(init_θ, MvNormal(length(init_θ),1))"
   ]
  },
  {
   "cell_type": "code",
   "execution_count": 141,
   "metadata": {},
   "outputs": [
    {
     "data": {
      "text/plain": [
       "2-element Array{Float64,1}:\n",
       "  0.9073340617753408\n",
       " -0.856018701587421"
      ]
     },
     "execution_count": 141,
     "metadata": {},
     "output_type": "execute_result"
    }
   ],
   "source": [
    "rand(MvNormal(2,1))"
   ]
  },
  {
   "cell_type": "code",
   "execution_count": 92,
   "metadata": {},
   "outputs": [
    {
     "data": {
      "text/plain": [
       "MetropolisHastings{Array{Int64,1},MvNormal{Float64,PDMats.ScalMat{Float64},FillArrays.Zeros{Float64,1,Tuple{Base.OneTo{Int64}}}}}([0, 1], ZeroMeanIsoNormal(\n",
       "dim: 2\n",
       "μ: 2-element Zeros{Float64}\n",
       "Σ: [1.0 0.0; 0.0 1.0]\n",
       ")\n",
       ")"
      ]
     },
     "execution_count": 92,
     "metadata": {},
     "output_type": "execute_result"
    }
   ],
   "source": [
    "rks = MetropolisHastings([0,1])"
   ]
  },
  {
   "cell_type": "code",
   "execution_count": 85,
   "metadata": {},
   "outputs": [
    {
     "data": {
      "text/plain": [
       "ZeroMeanIsoNormal(\n",
       "dim: 2\n",
       "μ: 2-element Zeros{Float64}\n",
       "Σ: [1.0 0.0; 0.0 1.0]\n",
       ")\n"
      ]
     },
     "execution_count": 85,
     "metadata": {},
     "output_type": "execute_result"
    }
   ],
   "source": [
    "MvNormal(2,1)"
   ]
  },
  {
   "cell_type": "code",
   "execution_count": 86,
   "metadata": {},
   "outputs": [
    {
     "data": {
      "text/plain": [
       "Normal{Float64}(μ=0.0, σ=1.0)"
      ]
     },
     "execution_count": 86,
     "metadata": {},
     "output_type": "execute_result"
    }
   ],
   "source": [
    "Normal(0,1)"
   ]
  },
  {
   "cell_type": "code",
   "execution_count": 17,
   "metadata": {
    "scrolled": true
   },
   "outputs": [
    {
     "data": {
      "text/plain": [
       "MetropolisHastings{Float64,Float64}(0.5, 0.2)"
      ]
     },
     "execution_count": 17,
     "metadata": {},
     "output_type": "execute_result"
    }
   ],
   "source": [
    "rst = MetropolisHastings(0.5)\n",
    "tr = MetropolisHastings(0.5, 0.2)"
   ]
  },
  {
   "cell_type": "code",
   "execution_count": 150,
   "metadata": {},
   "outputs": [],
   "source": [
    "struct state \n",
    "    θ::Any\n",
    "end"
   ]
  },
  {
   "cell_type": "code",
   "execution_count": 51,
   "metadata": {},
   "outputs": [],
   "source": [
    "# Define a model type. Stores the log density function.\n",
    "struct DensityModel{F<:Function} <: AbstractMCMC.AbstractModel\n",
    "    ℓπ::F\n",
    "end"
   ]
  },
  {
   "cell_type": "code",
   "execution_count": 52,
   "metadata": {
    "scrolled": true
   },
   "outputs": [
    {
     "data": {
      "text/plain": [
       "Transition"
      ]
     },
     "execution_count": 52,
     "metadata": {},
     "output_type": "execute_result"
    }
   ],
   "source": [
    "# Create a very basic Transition type, only stores the \n",
    "# parameter draws and the log probability of the draw.\n",
    "struct Transition{T, L}\n",
    "    θ::T\n",
    "    lp::L\n",
    "end\n",
    "\n",
    "# Store the new draw and its log density.\n",
    "Transition(model::DensityModel, θ) = Transition(θ, ℓπ(model, θ))"
   ]
  },
  {
   "cell_type": "code",
   "execution_count": null,
   "metadata": {},
   "outputs": [],
   "source": []
  },
  {
   "cell_type": "code",
   "execution_count": 95,
   "metadata": {},
   "outputs": [
    {
     "data": {
      "text/plain": [
       "2-element Array{Int64,1}:\n",
       " 0\n",
       " 1"
      ]
     },
     "execution_count": 95,
     "metadata": {},
     "output_type": "execute_result"
    }
   ],
   "source": [
    "test = Transition(model, [0,1]).θ"
   ]
  },
  {
   "cell_type": "code",
   "execution_count": 71,
   "metadata": {
    "scrolled": true
   },
   "outputs": [
    {
     "data": {
      "text/plain": [
       "density (generic function with 1 method)"
      ]
     },
     "execution_count": 71,
     "metadata": {},
     "output_type": "execute_result"
    }
   ],
   "source": [
    "insupport(θ) = θ[2] >= 0\n",
    "dist(θ) = Normal(θ[1], θ[2])\n",
    "density(θ) = insupport(θ) ? sum(logpdf.(dist(θ), data)) : -Inf"
   ]
  },
  {
   "cell_type": "code",
   "execution_count": 75,
   "metadata": {},
   "outputs": [
    {
     "data": {
      "text/plain": [
       "8"
      ]
     },
     "execution_count": 75,
     "metadata": {},
     "output_type": "execute_result"
    }
   ],
   "source": [
    "A = 8"
   ]
  },
  {
   "cell_type": "code",
   "execution_count": 76,
   "metadata": {
    "scrolled": true
   },
   "outputs": [
    {
     "data": {
      "text/plain": [
       "8"
      ]
     },
     "execution_count": 76,
     "metadata": {},
     "output_type": "execute_result"
    }
   ],
   "source": [
    "A::Int"
   ]
  },
  {
   "cell_type": "code",
   "execution_count": 110,
   "metadata": {
    "scrolled": true
   },
   "outputs": [
    {
     "data": {
      "text/plain": [
       "Normal{Float64}"
      ]
     },
     "execution_count": 110,
     "metadata": {},
     "output_type": "execute_result"
    }
   ],
   "source": [
    "typeof(Normal(0,1))"
   ]
  },
  {
   "cell_type": "code",
   "execution_count": 115,
   "metadata": {},
   "outputs": [
    {
     "data": {
      "text/plain": [
       "2×2 Array{Int64,2}:\n",
       " 1  0\n",
       " 0  1"
      ]
     },
     "execution_count": 115,
     "metadata": {},
     "output_type": "execute_result"
    }
   ],
   "source": [
    "sig = [1 0\n",
    "        0 1]"
   ]
  },
  {
   "cell_type": "code",
   "execution_count": 118,
   "metadata": {
    "scrolled": true
   },
   "outputs": [
    {
     "data": {
      "text/plain": [
       "FullNormal(\n",
       "dim: 2\n",
       "μ: [0.0, 0.0]\n",
       "Σ: [1.0 0.0; 0.0 1.0]\n",
       ")\n"
      ]
     },
     "execution_count": 118,
     "metadata": {},
     "output_type": "execute_result"
    }
   ],
   "source": [
    "\n",
    "tst_dist = MvNormal([0,0],sig)"
   ]
  },
  {
   "cell_type": "code",
   "execution_count": 139,
   "metadata": {},
   "outputs": [
    {
     "data": {
      "text/plain": [
       "2×4 Array{Float64,2}:\n",
       " -0.652451  0.392309  -0.489743   0.0893783\n",
       "  1.46704   1.15042    0.636674  -0.167119"
      ]
     },
     "execution_count": 139,
     "metadata": {},
     "output_type": "execute_result"
    }
   ],
   "source": [
    "rand(tst_dist, 4)"
   ]
  },
  {
   "cell_type": "code",
   "execution_count": 73,
   "metadata": {
    "scrolled": true
   },
   "outputs": [
    {
     "data": {
      "text/plain": [
       "DensityModel{typeof(density)}(density)"
      ]
     },
     "execution_count": 73,
     "metadata": {},
     "output_type": "execute_result"
    }
   ],
   "source": [
    "model = DensityModel(density)"
   ]
  },
  {
   "cell_type": "code",
   "execution_count": 91,
   "metadata": {},
   "outputs": [
    {
     "data": {
      "text/plain": [
       "Array{Int64,1}"
      ]
     },
     "execution_count": 91,
     "metadata": {},
     "output_type": "execute_result"
    }
   ],
   "source": [
    "typeof([1,2,3,4])"
   ]
  },
  {
   "cell_type": "code",
   "execution_count": 90,
   "metadata": {},
   "outputs": [
    {
     "data": {
      "text/plain": [
       "-654.4133956379703"
      ]
     },
     "execution_count": 90,
     "metadata": {},
     "output_type": "execute_result"
    }
   ],
   "source": [
    "model.ℓπ([0,1])"
   ]
  },
  {
   "cell_type": "code",
   "execution_count": 151,
   "metadata": {},
   "outputs": [],
   "source": [
    "# Define the first step! function, which is called at the \n",
    "# beginning of sampling. Return the initial parameter used\n",
    "# to define the sampler.\n",
    "function AbstractMCMC.step(\n",
    "    rng::AbstractRNG,\n",
    "    model::DensityModel,\n",
    "    spl::MetropolisHastings,\n",
    "    N::Integer,\n",
    "    ::Nothing;\n",
    "    kwargs...\n",
    ")\n",
    "    return Transition(model, spl.init_θ)\n",
    "end"
   ]
  },
  {
   "cell_type": "code",
   "execution_count": 152,
   "metadata": {},
   "outputs": [],
   "source": [
    "\n",
    "function AbstractMCMC.step(\n",
    "    rng::AbstractRNG,\n",
    "    model::DensityModel,\n",
    "    spl::MetropolisHastings,\n",
    "    N::Integer,\n",
    "    ::Nothing;\n",
    "    kwargs...\n",
    ")\n",
    "    return  spl.init_θ\n",
    "end"
   ]
  },
  {
   "cell_type": "code",
   "execution_count": 108,
   "metadata": {},
   "outputs": [
    {
     "data": {
      "text/plain": [
       "0×3 Array{Float64,2}"
      ]
     },
     "execution_count": 108,
     "metadata": {},
     "output_type": "execute_result"
    }
   ],
   "source": [
    "s = rand(MvNormal(0,1),3)\n",
    "s"
   ]
  },
  {
   "cell_type": "code",
   "execution_count": 54,
   "metadata": {},
   "outputs": [],
   "source": [
    "# Define a function that makes a basic proposal depending on a univariate\n",
    "# parameterization or a multivariate parameterization.\n",
    "propose(spl::MetropolisHastings, model::DensityModel, θ::Real) = \n",
    "    Transition(model, θ + rand(spl.proposal))\n",
    "propose(spl::MetropolisHastings, model::DensityModel, θ::Vector{<:Real}) = \n",
    "    Transition(model, θ + rand(spl.proposal))\n",
    "propose(spl::MetropolisHastings, model::DensityModel, t::Transition) =\n",
    "    propose(spl, model, t.θ)\n",
    "\n",
    "# Calculates the probability `q(θ|θcond)`, using the proposal distribution `spl.proposal`.\n",
    "q(spl::MetropolisHastings, θ::Real, θcond::Real) = logpdf(spl.proposal, θ - θcond)\n",
    "q(spl::MetropolisHastings, θ::Vector{<:Real}, θcond::Vector{<:Real}) =\n",
    "    logpdf(spl.proposal, θ - θcond)\n",
    "q(spl::MetropolisHastings, t1::Transition, t2::Transition) = q(spl, t1.θ, t2.θ)\n",
    "\n",
    "# Calculate the density of the model given some parameterization.\n",
    "ℓπ(model::DensityModel, θ) = model.ℓπ(θ)\n",
    "ℓπ(model::DensityModel, t::Transition) = t.lp\n",
    "\n",
    "# Define the other step function. Returns a Transition containing\n",
    "# either a new proposal (if accepted) or the previous proposal \n",
    "# (if not accepted).\n",
    "function AbstractMCMC.step(\n",
    "    rng::AbstractRNG,\n",
    "    model::DensityModel,\n",
    "    spl::MetropolisHastings,\n",
    "    ::Integer,\n",
    "    θ_prev::Transition;\n",
    "    kwargs...\n",
    ")\n",
    "    # Generate a new proposal.\n",
    "    θ = propose(spl, model, θ_prev)\n",
    "\n",
    "    # Calculate the log acceptance probability.\n",
    "    α = ℓπ(model, θ) - ℓπ(model, θ_prev) + q(spl, θ_prev, θ) - q(spl, θ, θ_prev)\n",
    "\n",
    "    # Decide whether to return the previous θ or the new one.\n",
    "    if log(rand(rng)) < min(α, 0.0)\n",
    "        return θ\n",
    "    else\n",
    "        return θ_prev\n",
    "    end\n",
    "end"
   ]
  },
  {
   "cell_type": "code",
   "execution_count": 145,
   "metadata": {},
   "outputs": [
    {
     "ename": "LoadError",
     "evalue": "\u001b[91mUndefVarError: rng not defined\u001b[39m",
     "output_type": "error",
     "traceback": [
      "\u001b[91mUndefVarError: rng not defined\u001b[39m",
      "",
      "Stacktrace:",
      " [1] top-level scope",
      " [2] include_string(::Function, ::Module, ::String, ::String) at .\\loading.jl:1091"
     ]
    }
   ],
   "source": [
    "using Random\n",
    "rng"
   ]
  },
  {
   "cell_type": "code",
   "execution_count": 153,
   "metadata": {},
   "outputs": [],
   "source": [
    "function AbstractMCMC.step(\n",
    "    rng::AbstractRNG,\n",
    "    model::DensityModel,\n",
    "    spl::MetropolisHastings,\n",
    "    θ_prev::state;\n",
    "    kwargs...\n",
    ")\n",
    "    # Generate a new proposal.\n",
    "    θ = propose(spl, model, θ_prev)\n",
    "\n",
    "    # Calculate the log acceptance probability.\n",
    "    α = ℓπ(model, θ) - ℓπ(model, θ_prev) + q(spl, θ_prev, θ) - q(spl, θ, θ_prev)\n",
    "\n",
    "    # Decide whether to return the previous θ or the new one.\n",
    "    if log(rand(rng)) < min(α, 0.0)\n",
    "        return θ.θ\n",
    "    else\n",
    "        return θ_prev.θ\n",
    "    end\n",
    "end"
   ]
  },
  {
   "cell_type": "code",
   "execution_count": 55,
   "metadata": {},
   "outputs": [],
   "source": [
    "# A basic chains constructor that works with the Transition struct we defined.\n",
    "function AbstractMCMC.bundle_samples(\n",
    "    rng::AbstractRNG, \n",
    "    ℓ::DensityModel, \n",
    "    s::MetropolisHastings, \n",
    "    N::Integer, \n",
    "    ts::Vector{<:Transition},\n",
    "    chain_type::Type{Any};\n",
    "    param_names=missing,\n",
    "    kwargs...\n",
    ")\n",
    "    # Turn all the transitions into a vector-of-vectors.\n",
    "    vals = copy(reduce(hcat,[vcat(t.θ, t.lp) for t in ts])')\n",
    "\n",
    "    # Check if we received any parameter names.\n",
    "    if ismissing(param_names)\n",
    "        param_names = [\"Parameter $i\" for i in 1:(length(first(vals))-1)]\n",
    "    end\n",
    "\n",
    "    # Add the log density field to the parameter names.\n",
    "    push!(param_names, \"lp\")\n",
    "\n",
    "    # Bundle everything up and return a Chains struct.\n",
    "    return Chains(vals, param_names, (internals=[\"lp\"],))\n",
    "end"
   ]
  },
  {
   "cell_type": "code",
   "execution_count": 155,
   "metadata": {},
   "outputs": [
    {
     "data": {
      "text/plain": [
       "MetropolisHastings{Array{Float64,1},MvNormal{Float64,PDMats.ScalMat{Float64},FillArrays.Zeros{Float64,1,Tuple{Base.OneTo{Int64}}}}}"
      ]
     },
     "execution_count": 155,
     "metadata": {},
     "output_type": "execute_result"
    }
   ],
   "source": [
    "typeof(spl)"
   ]
  },
  {
   "cell_type": "code",
   "execution_count": 154,
   "metadata": {
    "scrolled": false
   },
   "outputs": [
    {
     "ename": "LoadError",
     "evalue": "\u001b[91mMethodError: no method matching step(::Random._GLOBAL_RNG, ::DensityModel{typeof(density)}, ::MetropolisHastings{Array{Float64,1},MvNormal{Float64,PDMats.ScalMat{Float64},FillArrays.Zeros{Float64,1,Tuple{Base.OneTo{Int64}}}}}; param_names=[\"μ\", \"σ\"])\u001b[39m\n\u001b[91m\u001b[0mClosest candidates are:\u001b[39m\n\u001b[91m\u001b[0m  step(::AbstractRNG, ::DensityModel, ::MetropolisHastings, \u001b[91m::Integer\u001b[39m, \u001b[91m::Transition\u001b[39m; kwargs...) at In[54]:23\u001b[39m\n\u001b[91m\u001b[0m  step(::AbstractRNG, ::DensityModel, ::MetropolisHastings, \u001b[91m::Transition\u001b[39m; kwargs...) at In[58]:1\u001b[39m\n\u001b[91m\u001b[0m  step(::AbstractRNG, ::DensityModel, ::MetropolisHastings, \u001b[91m::Integer\u001b[39m, \u001b[91m::Nothing\u001b[39m; kwargs...) at In[152]:2\u001b[39m\n\u001b[91m\u001b[0m  ...\u001b[39m",
     "output_type": "error",
     "traceback": [
      "\u001b[91mMethodError: no method matching step(::Random._GLOBAL_RNG, ::DensityModel{typeof(density)}, ::MetropolisHastings{Array{Float64,1},MvNormal{Float64,PDMats.ScalMat{Float64},FillArrays.Zeros{Float64,1,Tuple{Base.OneTo{Int64}}}}}; param_names=[\"μ\", \"σ\"])\u001b[39m\n\u001b[91m\u001b[0mClosest candidates are:\u001b[39m\n\u001b[91m\u001b[0m  step(::AbstractRNG, ::DensityModel, ::MetropolisHastings, \u001b[91m::Integer\u001b[39m, \u001b[91m::Transition\u001b[39m; kwargs...) at In[54]:23\u001b[39m\n\u001b[91m\u001b[0m  step(::AbstractRNG, ::DensityModel, ::MetropolisHastings, \u001b[91m::Transition\u001b[39m; kwargs...) at In[58]:1\u001b[39m\n\u001b[91m\u001b[0m  step(::AbstractRNG, ::DensityModel, ::MetropolisHastings, \u001b[91m::Integer\u001b[39m, \u001b[91m::Nothing\u001b[39m; kwargs...) at In[152]:2\u001b[39m\n\u001b[91m\u001b[0m  ...\u001b[39m",
      "",
      "Stacktrace:",
      " [1] macro expansion at C:\\Users\\f50017812\\.julia\\packages\\AbstractMCMC\\oou1a\\src\\sample.jl:97 [inlined]",
      " [2] macro expansion at C:\\Users\\f50017812\\.julia\\packages\\ProgressLogging\\6KXlp\\src\\ProgressLogging.jl:328 [inlined]",
      " [3] (::AbstractMCMC.var\"#20#21\"{Bool,String,Nothing,Int64,Int64,Base.Iterators.Pairs{Symbol,Array{String,1},Tuple{Symbol},NamedTuple{(:param_names,),Tuple{Array{String,1}}}},Random._GLOBAL_RNG,DensityModel{typeof(density)},MetropolisHastings{Array{Float64,1},MvNormal{Float64,PDMats.ScalMat{Float64},FillArrays.Zeros{Float64,1,Tuple{Base.OneTo{Int64}}}}},Int64,Int64})() at C:\\Users\\f50017812\\.julia\\packages\\AbstractMCMC\\oou1a\\src\\logging.jl:11",
      " [4] with_logstate(::Function, ::Any) at .\\logging.jl:408",
      " [5] with_logger(::Function, ::LoggingExtras.TeeLogger{Tuple{LoggingExtras.EarlyFilteredLogger{ConsoleProgressMonitor.ProgressLogger,AbstractMCMC.var\"#1#3\"{Module}},LoggingExtras.EarlyFilteredLogger{Base.CoreLogging.SimpleLogger,AbstractMCMC.var\"#2#4\"{Module}}}}) at .\\logging.jl:514",
      " [6] with_progresslogger(::Function, ::Module, ::Base.CoreLogging.SimpleLogger) at C:\\Users\\f50017812\\.julia\\packages\\AbstractMCMC\\oou1a\\src\\logging.jl:34",
      " [7] macro expansion at C:\\Users\\f50017812\\.julia\\packages\\AbstractMCMC\\oou1a\\src\\logging.jl:10 [inlined]",
      " [8] mcmcsample(::Random._GLOBAL_RNG, ::DensityModel{typeof(density)}, ::MetropolisHastings{Array{Float64,1},MvNormal{Float64,PDMats.ScalMat{Float64},FillArrays.Zeros{Float64,1,Tuple{Base.OneTo{Int64}}}}}, ::Int64; progress::Bool, progressname::String, callback::Nothing, discard_initial::Int64, thinning::Int64, chain_type::Type{T} where T, kwargs::Base.Iterators.Pairs{Symbol,Array{String,1},Tuple{Symbol},NamedTuple{(:param_names,),Tuple{Array{String,1}}}}) at C:\\Users\\f50017812\\.julia\\packages\\AbstractMCMC\\oou1a\\src\\sample.jl:88",
      " [9] sample(::Random._GLOBAL_RNG, ::DensityModel{typeof(density)}, ::MetropolisHastings{Array{Float64,1},MvNormal{Float64,PDMats.ScalMat{Float64},FillArrays.Zeros{Float64,1,Tuple{Base.OneTo{Int64}}}}}, ::Int64; kwargs::Base.Iterators.Pairs{Symbol,Array{String,1},Tuple{Symbol},NamedTuple{(:param_names,),Tuple{Array{String,1}}}}) at C:\\Users\\f50017812\\.julia\\packages\\AbstractMCMC\\oou1a\\src\\sample.jl:31",
      " [10] sample(::DensityModel{typeof(density)}, ::MetropolisHastings{Array{Float64,1},MvNormal{Float64,PDMats.ScalMat{Float64},FillArrays.Zeros{Float64,1,Tuple{Base.OneTo{Int64}}}}}, ::Int64; kwargs::Base.Iterators.Pairs{Symbol,Array{String,1},Tuple{Symbol},NamedTuple{(:param_names,),Tuple{Array{String,1}}}}) at C:\\Users\\f50017812\\.julia\\packages\\AbstractMCMC\\oou1a\\src\\sample.jl:21",
      " [11] top-level scope at In[154]:16",
      " [12] include_string(::Function, ::Module, ::String, ::String) at .\\loading.jl:1091"
     ]
    }
   ],
   "source": [
    "# Generate a set of data from the posterior we want to estimate.\n",
    "data = rand(Normal(5, 3), 30)\n",
    "\n",
    "# Define the components of a basic model.\n",
    "insupport(θ) = θ[2] >= 0\n",
    "dist(θ) = Normal(θ[1], θ[2])\n",
    "density(θ) = insupport(θ) ? sum(logpdf.(dist(θ), data)) : -Inf\n",
    "\n",
    "# Construct a DensityModel.\n",
    "model = DensityModel(density)\n",
    "\n",
    "# Set up our sampler with initial parameters.\n",
    "spl = MetropolisHastings([0.0, 0.0])\n",
    "\n",
    "# Sample from the posterior.\n",
    "chain = sample(model, spl, 100000; param_names=[\"μ\", \"σ\"])"
   ]
  },
  {
   "cell_type": "code",
   "execution_count": 57,
   "metadata": {},
   "outputs": [
    {
     "data": {
      "text/plain": [
       "30-element Array{Float64,1}:\n",
       "  4.437528231492961\n",
       "  2.2001126959384374\n",
       "  6.787010926118304\n",
       " 10.277018877593662\n",
       "  3.805151618741797\n",
       "  6.712655701212945\n",
       "  7.998264854429905\n",
       "  6.060583898072405\n",
       "  5.521087185487601\n",
       "  2.7055869235950736\n",
       "  5.0290077633451125\n",
       "  5.453657555385584\n",
       "  4.151577904662954\n",
       "  ⋮\n",
       "  6.069863195453504\n",
       "  3.5393345168491726\n",
       "  6.63972925363036\n",
       "  1.557584451949321\n",
       "  6.638641029683351\n",
       "  4.7355038874844375\n",
       "  1.9879226229409959\n",
       "  2.1208535392806\n",
       "  9.638320384901153\n",
       "  5.181010313213452\n",
       " -0.4511953354367222\n",
       "  8.205692469575357"
      ]
     },
     "execution_count": 57,
     "metadata": {},
     "output_type": "execute_result"
    }
   ],
   "source": [
    "data"
   ]
  },
  {
   "cell_type": "code",
   "execution_count": 12,
   "metadata": {
    "scrolled": true
   },
   "outputs": [
    {
     "data": {
      "text/html": [
       "(::<b>StatsBase.var\"#sample##kw\"</b>)(::<b>Any</b>, ::<b>typeof(sample)</b>, model::<b>AbstractMCMC.AbstractModel</b>, sampler::<b>AbstractMCMC.AbstractSampler</b>, arg) in AbstractMCMC at <a href=\"file://C:/Users/f50017812/.julia/packages/AbstractMCMC/oou1a/src/sample.jl\" target=\"_blank\">C:\\Users\\f50017812\\.julia\\packages\\AbstractMCMC\\oou1a\\src\\sample.jl:15</a>"
      ],
      "text/plain": [
       "(::StatsBase.var\"#sample##kw\")(::Any, ::typeof(sample), model::AbstractMCMC.AbstractModel, sampler::AbstractMCMC.AbstractSampler, arg) in AbstractMCMC at C:\\Users\\f50017812\\.julia\\packages\\AbstractMCMC\\oou1a\\src\\sample.jl:15"
      ]
     },
     "execution_count": 12,
     "metadata": {},
     "output_type": "execute_result"
    }
   ],
   "source": [
    "@which  sample(model, spl, 100000; param_names=[\"μ\", \"σ\"])"
   ]
  },
  {
   "cell_type": "code",
   "execution_count": 13,
   "metadata": {},
   "outputs": [
    {
     "ename": "LoadError",
     "evalue": "\u001b[91mUndefVarError: Pkg not defined\u001b[39m",
     "output_type": "error",
     "traceback": [
      "\u001b[91mUndefVarError: Pkg not defined\u001b[39m",
      "",
      "Stacktrace:",
      " [1] top-level scope at In[13]:1",
      " [2] include_string(::Function, ::Module, ::String, ::String) at .\\loading.jl:1091"
     ]
    }
   ],
   "source": [
    "pkgs = Pkg.installed();\n",
    "pkgs[\"Datetime\"]"
   ]
  },
  {
   "cell_type": "code",
   "execution_count": 1,
   "metadata": {},
   "outputs": [],
   "source": [
    "using Turing"
   ]
  },
  {
   "cell_type": "code",
   "execution_count": 2,
   "metadata": {
    "scrolled": false
   },
   "outputs": [
    {
     "data": {
      "text/plain": [
       "Chains MCMC chain (1000×3×1 Array{Float64,3}):\n",
       "\n",
       "Log evidence      = -3.713594836897286\n",
       "Iterations        = 1:1000\n",
       "Thinning interval = 1\n",
       "Chains            = 1\n",
       "Samples per chain = 1000\n",
       "parameters        = m, s\n",
       "internals         = lp\n",
       "\n",
       "Summary Statistics\n",
       " \u001b[1m parameters \u001b[0m \u001b[1m    mean \u001b[0m \u001b[1m     std \u001b[0m \u001b[1m naive_se \u001b[0m \u001b[1m    mcse \u001b[0m \u001b[1m      ess \u001b[0m \u001b[1m    rhat \u001b[0m\n",
       " \u001b[90m     Symbol \u001b[0m \u001b[90m Float64 \u001b[0m \u001b[90m Float64 \u001b[0m \u001b[90m  Float64 \u001b[0m \u001b[90m Float64 \u001b[0m \u001b[90m  Float64 \u001b[0m \u001b[90m Float64 \u001b[0m\n",
       "\n",
       "           m    0.0801    1.8935     0.0599    0.0783   965.4217    1.0009\n",
       "           s    2.9610    3.8789     0.1227    0.1100   998.3367    0.9994\n",
       "\n",
       "Quantiles\n",
       " \u001b[1m parameters \u001b[0m \u001b[1m    2.5% \u001b[0m \u001b[1m   25.0% \u001b[0m \u001b[1m   50.0% \u001b[0m \u001b[1m   75.0% \u001b[0m \u001b[1m   97.5% \u001b[0m\n",
       " \u001b[90m     Symbol \u001b[0m \u001b[90m Float64 \u001b[0m \u001b[90m Float64 \u001b[0m \u001b[90m Float64 \u001b[0m \u001b[90m Float64 \u001b[0m \u001b[90m Float64 \u001b[0m\n",
       "\n",
       "           m   -3.3181   -0.8196    0.0697    0.9980    4.0710\n",
       "           s    0.5105    1.1178    1.8518    3.2459   12.7656\n"
      ]
     },
     "execution_count": 2,
     "metadata": {},
     "output_type": "execute_result"
    }
   ],
   "source": [
    "@model function gdemo(x, y)\n",
    "    s ~ InverseGamma(2, 3)\n",
    "    m ~ Normal(0, sqrt(s))\n",
    "    x ~ Normal(m, sqrt(s))\n",
    "    y ~ Normal(m, sqrt(s))\n",
    "end\n",
    "\n",
    "mod = gdemo(1.5, 2)\n",
    "alg = IS()\n",
    "n_samples = 1000\n",
    "\n",
    "chn = sample(mod, alg, n_samples)"
   ]
  },
  {
   "cell_type": "code",
   "execution_count": 3,
   "metadata": {},
   "outputs": [
    {
     "data": {
      "text/plain": [
       "v\"1.5.3\""
      ]
     },
     "execution_count": 3,
     "metadata": {},
     "output_type": "execute_result"
    }
   ],
   "source": [
    "VERSION"
   ]
  },
  {
   "cell_type": "code",
   "execution_count": 5,
   "metadata": {
    "scrolled": true
   },
   "outputs": [
    {
     "name": "stderr",
     "output_type": "stream",
     "text": [
      "┌ Info: Precompiling Flux [587475ba-b771-5e3f-ad9e-33799f191a9c]\n",
      "└ @ Base loading.jl:1278\n"
     ]
    }
   ],
   "source": [
    "using Flux"
   ]
  },
  {
   "cell_type": "code",
   "execution_count": 10,
   "metadata": {},
   "outputs": [],
   "source": [
    "f(x) = 3x^2 + 2x + 1\n",
    "df(x) = gradient(f, x)[1];"
   ]
  },
  {
   "cell_type": "code",
   "execution_count": 11,
   "metadata": {
    "scrolled": true
   },
   "outputs": [
    {
     "data": {
      "text/plain": [
       "14"
      ]
     },
     "execution_count": 11,
     "metadata": {},
     "output_type": "execute_result"
    }
   ],
   "source": [
    "df(2)"
   ]
  },
  {
   "cell_type": "code",
   "execution_count": 13,
   "metadata": {
    "scrolled": true
   },
   "outputs": [
    {
     "data": {
      "text/plain": [
       "2-element Array{Float64,1}:\n",
       " 0.3604442874812279\n",
       " 0.1661717171484125"
      ]
     },
     "execution_count": 13,
     "metadata": {},
     "output_type": "execute_result"
    }
   ],
   "source": [
    "W = rand(2, 5)\n",
    "b = rand(2)"
   ]
  },
  {
   "cell_type": "code",
   "execution_count": 6,
   "metadata": {},
   "outputs": [
    {
     "data": {
      "text/plain": [
       "17"
      ]
     },
     "execution_count": 6,
     "metadata": {},
     "output_type": "execute_result"
    }
   ],
   "source": [
    "x = 10\n",
    "function change!(y)\n",
    "    y = 17\n",
    "end\n",
    "\n",
    "change!(x)"
   ]
  },
  {
   "cell_type": "code",
   "execution_count": 12,
   "metadata": {},
   "outputs": [
    {
     "name": "stderr",
     "output_type": "stream",
     "text": [
      "WARNING: replacing module MyModule.\n"
     ]
    },
    {
     "data": {
      "text/plain": [
       "Main.MyModule"
      ]
     },
     "execution_count": 12,
     "metadata": {},
     "output_type": "execute_result"
    }
   ],
   "source": [
    "module MyModule\n",
    "\n",
    "export x, y\n",
    "\n",
    "x() = \"x\"\n",
    "y() = \"y\"\n",
    "p() = \"p\"\n",
    "\n",
    "end\n"
   ]
  },
  {
   "cell_type": "code",
   "execution_count": 18,
   "metadata": {},
   "outputs": [
    {
     "data": {
      "text/plain": [
       "fs (generic function with 1 method)"
      ]
     },
     "execution_count": 18,
     "metadata": {},
     "output_type": "execute_result"
    }
   ],
   "source": [
    "fs(x) = x*2"
   ]
  },
  {
   "cell_type": "code",
   "execution_count": 32,
   "metadata": {},
   "outputs": [
    {
     "data": {
      "text/plain": [
       "true"
      ]
     },
     "execution_count": 32,
     "metadata": {},
     "output_type": "execute_result"
    }
   ],
   "source": [
    "#fs isa Function\n",
    "asd =3\n",
    "asd isa Int"
   ]
  },
  {
   "cell_type": "code",
   "execution_count": 34,
   "metadata": {
    "scrolled": true
   },
   "outputs": [
    {
     "data": {
      "text/plain": [
       "DensityModel{typeof(fs)}(fs)"
      ]
     },
     "execution_count": 34,
     "metadata": {},
     "output_type": "execute_result"
    }
   ],
   "source": [
    "DensityModel(fs)"
   ]
  },
  {
   "cell_type": "code",
   "execution_count": 35,
   "metadata": {},
   "outputs": [
    {
     "data": {
      "text/plain": [
       "DensityModel{typeof(density)}(density)"
      ]
     },
     "execution_count": 35,
     "metadata": {},
     "output_type": "execute_result"
    }
   ],
   "source": [
    "# Define the components of a basic model.\n",
    "insupport(θ) = θ[2] >= 0\n",
    "dist(θ) = Normal(θ[1], θ[2])\n",
    "density(θ) = insupport(θ) ? sum(logpdf.(dist(θ), data)) : -Inf\n",
    "\n",
    "# Construct a DensityModel.\n",
    "model = DensityModel(density)"
   ]
  },
  {
   "cell_type": "code",
   "execution_count": 37,
   "metadata": {
    "scrolled": true
   },
   "outputs": [
    {
     "ename": "LoadError",
     "evalue": "\u001b[91mtype DensityModel has no field π\u001b[39m",
     "output_type": "error",
     "traceback": [
      "\u001b[91mtype DensityModel has no field π\u001b[39m",
      "",
      "Stacktrace:",
      " [1] getproperty(::DensityModel{typeof(density)}, ::Symbol) at .\\Base.jl:33",
      " [2] top-level scope at In[37]:1",
      " [3] include_string(::Function, ::Module, ::String, ::String) at .\\loading.jl:1091"
     ]
    }
   ],
   "source": [
    "model.π"
   ]
  },
  {
   "cell_type": "code",
   "execution_count": 40,
   "metadata": {
    "scrolled": true
   },
   "outputs": [
    {
     "data": {
      "text/plain": [
       "(:ℓπ,)"
      ]
     },
     "execution_count": 40,
     "metadata": {},
     "output_type": "execute_result"
    }
   ],
   "source": [
    "fieldnames(typeof(model))"
   ]
  },
  {
   "cell_type": "code",
   "execution_count": 41,
   "metadata": {
    "scrolled": true
   },
   "outputs": [
    {
     "ename": "LoadError",
     "evalue": "\u001b[91mUndefVarError: ℓπ not defined\u001b[39m",
     "output_type": "error",
     "traceback": [
      "\u001b[91mUndefVarError: ℓπ not defined\u001b[39m",
      "",
      "Stacktrace:",
      " [1] top-level scope at In[41]:1",
      " [2] include_string(::Function, ::Module, ::String, ::String) at .\\loading.jl:1091"
     ]
    }
   ],
   "source": [
    "model:ℓπ"
   ]
  },
  {
   "cell_type": "code",
   "execution_count": 48,
   "metadata": {},
   "outputs": [
    {
     "data": {
      "text/plain": [
       "5"
      ]
     },
     "execution_count": 48,
     "metadata": {},
     "output_type": "execute_result"
    }
   ],
   "source": [
    "das(s) = s + 2\n",
    "das(3)"
   ]
  },
  {
   "cell_type": "code",
   "execution_count": 159,
   "metadata": {},
   "outputs": [],
   "source": [
    "for _ in 1:0\n",
    "    print(2)\n",
    "end"
   ]
  }
 ],
 "metadata": {
  "kernelspec": {
   "display_name": "Julia 1.5.3",
   "language": "julia",
   "name": "julia-1.5"
  },
  "language_info": {
   "file_extension": ".jl",
   "mimetype": "application/julia",
   "name": "julia",
   "version": "1.5.3"
  }
 },
 "nbformat": 4,
 "nbformat_minor": 4
}
